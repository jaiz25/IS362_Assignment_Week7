{
 "cells": [
  {
   "cell_type": "markdown",
   "metadata": {},
   "source": [
    "# IS 362 Week 7 Assignment\n",
    "\n",
    "Choose six recent popular movies. Ask at least five people that you know (friends, family, classmates,\n",
    "imaginary friends) to rate each of these movies that they have seen on a scale of 1 to 5. There should be\n",
    "at least one movie that not everyone has seen!\n",
    "Take the results (observations) and store them somewhere (like a SQL database, or a .CSV file). Load the\n",
    "information into a pandas dataframe. Your solution should include Python and pandas code that\n",
    "accomplishes the following:\n",
    "\n",
    "1. Load the ratings by user information that you collected into a pandas dataframe.\n",
    "2. Show the average ratings for each user and each movie.\n",
    "3. Create a new pandas dataframe, with normalized ratings for each user. Again, show the average\n",
    "ratings for each user and each movie.\n",
    "4. Provide a text-based conclusion: explain what might be advantages and disadvantages of using\n",
    "normalized ratings instead of the actual ratings.\n",
    "5. [Extra credit] Create another new pandas dataframe, with standardized ratings for each user.\n",
    "Once again, show the average ratings for each user and each movie"
   ]
  },
  {
   "cell_type": "code",
   "execution_count": 1,
   "metadata": {
    "collapsed": true
   },
   "outputs": [],
   "source": [
    "import csv\n",
    "import pandas as pd"
   ]
  },
  {
   "cell_type": "markdown",
   "metadata": {},
   "source": [
    "## Create a CSV file"
   ]
  },
  {
   "cell_type": "code",
   "execution_count": 17,
   "metadata": {},
   "outputs": [],
   "source": [
    "with open('movies.csv', 'w') as csvfile:\n",
    "    filewriter = csv.writer(csvfile, delimiter=',')\n",
    "    filewriter.writerow(['User', 'Black_Panther', 'Wonder_Woman', 'Logan', \n",
    "                         'Beauty_and_the_Beast', 'Coco', 'The_Shape_of_Water'])\n",
    "    filewriter.writerow(['Laiza', 5, 5, 4, 5, 5, ''])\n",
    "    filewriter.writerow(['Joy', 5, 5, 4, 5, '', ''])\n",
    "    filewriter.writerow(['Doreen', '', 4, 3, 5, 5, ''])\n",
    "    filewriter.writerow(['Elijah', 5, 3, 5, 2, 5, ''])\n",
    "    filewriter.writerow(['Lucas', 5, '', 4, '', 5, ''])\n",
    "    "
   ]
  },
  {
   "cell_type": "code",
   "execution_count": 18,
   "metadata": {},
   "outputs": [
    {
     "name": "stdout",
     "output_type": "stream",
     "text": [
      "['User', 'Black_Panther', 'Wonder_Woman', 'Logan', 'Beauty_and_the_Beast', 'Coco', 'The_Shape_of_Water']\n",
      "[]\n",
      "['Laiza', '5', '5', '4', '5', '5', '']\n",
      "[]\n",
      "['Joy', '5', '5', '4', '5', '', '']\n",
      "[]\n",
      "['Doreen', '', '4', '3', '5', '5', '']\n",
      "[]\n",
      "['Elijah', '5', '3', '5', '2', '5', '']\n",
      "[]\n",
      "['Lucas', '5', '', '4', '', '5', '']\n",
      "[]\n"
     ]
    }
   ],
   "source": [
    "# opening a csv file by printing each row\n",
    "\n",
    "with open('movies.csv', 'r') as f:\n",
    "    reader = csv.reader(f)\n",
    "    for row in reader:\n",
    "        print(row)"
   ]
  },
  {
   "cell_type": "markdown",
   "metadata": {},
   "source": [
    "## Load CSV file into a pandas Dataframe"
   ]
  },
  {
   "cell_type": "code",
   "execution_count": 49,
   "metadata": {
    "scrolled": true
   },
   "outputs": [
    {
     "data": {
      "text/html": [
       "<div>\n",
       "<style>\n",
       "    .dataframe thead tr:only-child th {\n",
       "        text-align: right;\n",
       "    }\n",
       "\n",
       "    .dataframe thead th {\n",
       "        text-align: left;\n",
       "    }\n",
       "\n",
       "    .dataframe tbody tr th {\n",
       "        vertical-align: top;\n",
       "    }\n",
       "</style>\n",
       "<table border=\"1\" class=\"dataframe\">\n",
       "  <thead>\n",
       "    <tr style=\"text-align: right;\">\n",
       "      <th></th>\n",
       "      <th>User</th>\n",
       "      <th>Black_Panther</th>\n",
       "      <th>Wonder_Woman</th>\n",
       "      <th>Logan</th>\n",
       "      <th>Beauty_and_the_Beast</th>\n",
       "      <th>Coco</th>\n",
       "      <th>The_Shape_of_Water</th>\n",
       "    </tr>\n",
       "  </thead>\n",
       "  <tbody>\n",
       "    <tr>\n",
       "      <th>0</th>\n",
       "      <td>Laiza</td>\n",
       "      <td>5.0</td>\n",
       "      <td>5.0</td>\n",
       "      <td>4</td>\n",
       "      <td>5.0</td>\n",
       "      <td>5.0</td>\n",
       "      <td>NaN</td>\n",
       "    </tr>\n",
       "    <tr>\n",
       "      <th>1</th>\n",
       "      <td>Joy</td>\n",
       "      <td>5.0</td>\n",
       "      <td>5.0</td>\n",
       "      <td>4</td>\n",
       "      <td>5.0</td>\n",
       "      <td>NaN</td>\n",
       "      <td>NaN</td>\n",
       "    </tr>\n",
       "    <tr>\n",
       "      <th>2</th>\n",
       "      <td>Doreen</td>\n",
       "      <td>NaN</td>\n",
       "      <td>4.0</td>\n",
       "      <td>3</td>\n",
       "      <td>5.0</td>\n",
       "      <td>5.0</td>\n",
       "      <td>NaN</td>\n",
       "    </tr>\n",
       "    <tr>\n",
       "      <th>3</th>\n",
       "      <td>Elijah</td>\n",
       "      <td>5.0</td>\n",
       "      <td>3.0</td>\n",
       "      <td>5</td>\n",
       "      <td>2.0</td>\n",
       "      <td>5.0</td>\n",
       "      <td>NaN</td>\n",
       "    </tr>\n",
       "    <tr>\n",
       "      <th>4</th>\n",
       "      <td>Lucas</td>\n",
       "      <td>5.0</td>\n",
       "      <td>NaN</td>\n",
       "      <td>4</td>\n",
       "      <td>NaN</td>\n",
       "      <td>5.0</td>\n",
       "      <td>NaN</td>\n",
       "    </tr>\n",
       "  </tbody>\n",
       "</table>\n",
       "</div>"
      ],
      "text/plain": [
       "     User  Black_Panther  Wonder_Woman  Logan  Beauty_and_the_Beast  Coco  \\\n",
       "0   Laiza            5.0           5.0      4                   5.0   5.0   \n",
       "1     Joy            5.0           5.0      4                   5.0   NaN   \n",
       "2  Doreen            NaN           4.0      3                   5.0   5.0   \n",
       "3  Elijah            5.0           3.0      5                   2.0   5.0   \n",
       "4   Lucas            5.0           NaN      4                   NaN   5.0   \n",
       "\n",
       "   The_Shape_of_Water  \n",
       "0                 NaN  \n",
       "1                 NaN  \n",
       "2                 NaN  \n",
       "3                 NaN  \n",
       "4                 NaN  "
      ]
     },
     "execution_count": 49,
     "metadata": {},
     "output_type": "execute_result"
    }
   ],
   "source": [
    "ratings = pd.read_csv('movies.csv')\n",
    "ratings"
   ]
  },
  {
   "cell_type": "markdown",
   "metadata": {},
   "source": [
    "It looks like the ratings are different datatypes."
   ]
  },
  {
   "cell_type": "code",
   "execution_count": 20,
   "metadata": {},
   "outputs": [
    {
     "name": "stdout",
     "output_type": "stream",
     "text": [
      "<class 'pandas.core.frame.DataFrame'>\n",
      "RangeIndex: 5 entries, 0 to 4\n",
      "Data columns (total 7 columns):\n",
      "User                    5 non-null object\n",
      "Black_Panther           4 non-null float64\n",
      "Wonder_Woman            4 non-null float64\n",
      "Logan                   5 non-null int64\n",
      "Beauty_and_the_Beast    4 non-null float64\n",
      "Coco                    4 non-null float64\n",
      "The_Shape_of_Water      0 non-null float64\n",
      "dtypes: float64(5), int64(1), object(1)\n",
      "memory usage: 360.0+ bytes\n"
     ]
    }
   ],
   "source": [
    "# To verify the datatype\n",
    "\n",
    "ratings.info()"
   ]
  },
  {
   "cell_type": "code",
   "execution_count": 23,
   "metadata": {},
   "outputs": [
    {
     "name": "stdout",
     "output_type": "stream",
     "text": [
      "<class 'pandas.core.frame.DataFrame'>\n",
      "RangeIndex: 5 entries, 0 to 4\n",
      "Data columns (total 7 columns):\n",
      "User                    5 non-null object\n",
      "Black_Panther           4 non-null float64\n",
      "Wonder_Woman            4 non-null float64\n",
      "Logan                   5 non-null float64\n",
      "Beauty_and_the_Beast    4 non-null float64\n",
      "Coco                    4 non-null float64\n",
      "The_Shape_of_Water      0 non-null float64\n",
      "dtypes: float64(6), object(1)\n",
      "memory usage: 360.0+ bytes\n"
     ]
    }
   ],
   "source": [
    "# Change datatype of column Logan to a float (from int to float)\n",
    "\n",
    "ratings['Logan'] = ratings.Logan.astype(float)\n",
    "ratings.info()"
   ]
  },
  {
   "cell_type": "markdown",
   "metadata": {},
   "source": [
    "## Average"
   ]
  },
  {
   "cell_type": "markdown",
   "metadata": {},
   "source": [
    "### Average rating for each movie"
   ]
  },
  {
   "cell_type": "code",
   "execution_count": 25,
   "metadata": {},
   "outputs": [
    {
     "data": {
      "text/plain": [
       "Black_Panther           5.00\n",
       "Wonder_Woman            4.25\n",
       "Logan                   4.00\n",
       "Beauty_and_the_Beast    4.25\n",
       "Coco                    5.00\n",
       "The_Shape_of_Water       NaN\n",
       "dtype: float64"
      ]
     },
     "execution_count": 25,
     "metadata": {},
     "output_type": "execute_result"
    }
   ],
   "source": [
    "ratings.mean()"
   ]
  },
  {
   "cell_type": "markdown",
   "metadata": {},
   "source": [
    "### Average rating of each user"
   ]
  },
  {
   "cell_type": "code",
   "execution_count": 58,
   "metadata": {},
   "outputs": [
    {
     "data": {
      "text/plain": [
       "0    4.800000\n",
       "1    4.750000\n",
       "2    4.250000\n",
       "3    4.000000\n",
       "4    4.666667\n",
       "dtype: float64"
      ]
     },
     "execution_count": 58,
     "metadata": {},
     "output_type": "execute_result"
    }
   ],
   "source": [
    "ratings.mean(axis=1)"
   ]
  },
  {
   "cell_type": "code",
   "execution_count": 57,
   "metadata": {},
   "outputs": [
    {
     "data": {
      "text/plain": [
       "User\n",
       "Laiza     4.800000\n",
       "Joy       4.750000\n",
       "Doreen    4.250000\n",
       "Elijah    4.000000\n",
       "Lucas     4.666667\n",
       "dtype: float64"
      ]
     },
     "execution_count": 57,
     "metadata": {},
     "output_type": "execute_result"
    }
   ],
   "source": [
    "# Want the output to include the user's name.  Will make a copy of the dataframe and change the index.\n",
    "\n",
    "ratings_copy = ratings.copy()\n",
    "ratings_copy = ratings_copy.set_index(['User'])\n",
    "ratings_copy.mean(axis=1)"
   ]
  },
  {
   "cell_type": "markdown",
   "metadata": {},
   "source": [
    "## Normalized"
   ]
  },
  {
   "cell_type": "code",
   "execution_count": 59,
   "metadata": {},
   "outputs": [
    {
     "data": {
      "text/html": [
       "<div>\n",
       "<style>\n",
       "    .dataframe thead tr:only-child th {\n",
       "        text-align: right;\n",
       "    }\n",
       "\n",
       "    .dataframe thead th {\n",
       "        text-align: left;\n",
       "    }\n",
       "\n",
       "    .dataframe tbody tr th {\n",
       "        vertical-align: top;\n",
       "    }\n",
       "</style>\n",
       "<table border=\"1\" class=\"dataframe\">\n",
       "  <thead>\n",
       "    <tr style=\"text-align: right;\">\n",
       "      <th></th>\n",
       "      <th>Black_Panther</th>\n",
       "      <th>Wonder_Woman</th>\n",
       "      <th>Logan</th>\n",
       "      <th>Beauty_and_the_Beast</th>\n",
       "      <th>Coco</th>\n",
       "      <th>The_Shape_of_Water</th>\n",
       "    </tr>\n",
       "    <tr>\n",
       "      <th>User</th>\n",
       "      <th></th>\n",
       "      <th></th>\n",
       "      <th></th>\n",
       "      <th></th>\n",
       "      <th></th>\n",
       "      <th></th>\n",
       "    </tr>\n",
       "  </thead>\n",
       "  <tbody>\n",
       "    <tr>\n",
       "      <th>Laiza</th>\n",
       "      <td>NaN</td>\n",
       "      <td>1.0</td>\n",
       "      <td>0.5</td>\n",
       "      <td>1.0</td>\n",
       "      <td>NaN</td>\n",
       "      <td>NaN</td>\n",
       "    </tr>\n",
       "    <tr>\n",
       "      <th>Joy</th>\n",
       "      <td>NaN</td>\n",
       "      <td>1.0</td>\n",
       "      <td>0.5</td>\n",
       "      <td>1.0</td>\n",
       "      <td>NaN</td>\n",
       "      <td>NaN</td>\n",
       "    </tr>\n",
       "    <tr>\n",
       "      <th>Doreen</th>\n",
       "      <td>NaN</td>\n",
       "      <td>0.5</td>\n",
       "      <td>0.0</td>\n",
       "      <td>1.0</td>\n",
       "      <td>NaN</td>\n",
       "      <td>NaN</td>\n",
       "    </tr>\n",
       "    <tr>\n",
       "      <th>Elijah</th>\n",
       "      <td>NaN</td>\n",
       "      <td>0.0</td>\n",
       "      <td>1.0</td>\n",
       "      <td>0.0</td>\n",
       "      <td>NaN</td>\n",
       "      <td>NaN</td>\n",
       "    </tr>\n",
       "    <tr>\n",
       "      <th>Lucas</th>\n",
       "      <td>NaN</td>\n",
       "      <td>NaN</td>\n",
       "      <td>0.5</td>\n",
       "      <td>NaN</td>\n",
       "      <td>NaN</td>\n",
       "      <td>NaN</td>\n",
       "    </tr>\n",
       "  </tbody>\n",
       "</table>\n",
       "</div>"
      ],
      "text/plain": [
       "        Black_Panther  Wonder_Woman  Logan  Beauty_and_the_Beast  Coco  \\\n",
       "User                                                                     \n",
       "Laiza             NaN           1.0    0.5                   1.0   NaN   \n",
       "Joy               NaN           1.0    0.5                   1.0   NaN   \n",
       "Doreen            NaN           0.5    0.0                   1.0   NaN   \n",
       "Elijah            NaN           0.0    1.0                   0.0   NaN   \n",
       "Lucas             NaN           NaN    0.5                   NaN   NaN   \n",
       "\n",
       "        The_Shape_of_Water  \n",
       "User                        \n",
       "Laiza                  NaN  \n",
       "Joy                    NaN  \n",
       "Doreen                 NaN  \n",
       "Elijah                 NaN  \n",
       "Lucas                  NaN  "
      ]
     },
     "execution_count": 59,
     "metadata": {},
     "output_type": "execute_result"
    }
   ],
   "source": [
    "normalized_ratings = (ratings_copy - ratings_copy.min()) / (ratings_copy.max() - ratings_copy.min())\n",
    "normalized_ratings"
   ]
  },
  {
   "cell_type": "markdown",
   "metadata": {},
   "source": [
    "### Average of normalized ratings for each movie"
   ]
  },
  {
   "cell_type": "code",
   "execution_count": 60,
   "metadata": {},
   "outputs": [
    {
     "data": {
      "text/plain": [
       "Black_Panther             NaN\n",
       "Wonder_Woman            0.625\n",
       "Logan                   0.500\n",
       "Beauty_and_the_Beast    0.750\n",
       "Coco                      NaN\n",
       "The_Shape_of_Water        NaN\n",
       "dtype: float64"
      ]
     },
     "execution_count": 60,
     "metadata": {},
     "output_type": "execute_result"
    }
   ],
   "source": [
    "normalized_ratings.mean()"
   ]
  },
  {
   "cell_type": "markdown",
   "metadata": {},
   "source": [
    "### Average of normalized ratings by user"
   ]
  },
  {
   "cell_type": "code",
   "execution_count": 61,
   "metadata": {},
   "outputs": [
    {
     "data": {
      "text/plain": [
       "User\n",
       "Laiza     0.833333\n",
       "Joy       0.833333\n",
       "Doreen    0.500000\n",
       "Elijah    0.333333\n",
       "Lucas     0.500000\n",
       "dtype: float64"
      ]
     },
     "execution_count": 61,
     "metadata": {},
     "output_type": "execute_result"
    }
   ],
   "source": [
    "normalized_ratings.mean(axis=1)"
   ]
  },
  {
   "cell_type": "markdown",
   "metadata": {},
   "source": [
    "Looking at the actual average and normalized averages, we can see differences in the results.  Normalization refers to a process that makes something more normal or regular. Normaliztion of ratings means adjusting values measured on different scales to a notionally common scale prior to averaging; which scales all numeric variables in the range [0,1]. When you normalize data, you eliminate the units of measurement for data, enabling you to more easily compare data from different places.  A drawback is if you have outliers in your data set, normalizing your data will scale the \"normal\" data to a very small interval."
   ]
  },
  {
   "cell_type": "markdown",
   "metadata": {},
   "source": [
    "## Standardized"
   ]
  },
  {
   "cell_type": "code",
   "execution_count": 62,
   "metadata": {},
   "outputs": [
    {
     "data": {
      "text/html": [
       "<div>\n",
       "<style>\n",
       "    .dataframe thead tr:only-child th {\n",
       "        text-align: right;\n",
       "    }\n",
       "\n",
       "    .dataframe thead th {\n",
       "        text-align: left;\n",
       "    }\n",
       "\n",
       "    .dataframe tbody tr th {\n",
       "        vertical-align: top;\n",
       "    }\n",
       "</style>\n",
       "<table border=\"1\" class=\"dataframe\">\n",
       "  <thead>\n",
       "    <tr style=\"text-align: right;\">\n",
       "      <th></th>\n",
       "      <th>Black_Panther</th>\n",
       "      <th>Wonder_Woman</th>\n",
       "      <th>Logan</th>\n",
       "      <th>Beauty_and_the_Beast</th>\n",
       "      <th>Coco</th>\n",
       "      <th>The_Shape_of_Water</th>\n",
       "    </tr>\n",
       "    <tr>\n",
       "      <th>User</th>\n",
       "      <th></th>\n",
       "      <th></th>\n",
       "      <th></th>\n",
       "      <th></th>\n",
       "      <th></th>\n",
       "      <th></th>\n",
       "    </tr>\n",
       "  </thead>\n",
       "  <tbody>\n",
       "    <tr>\n",
       "      <th>Laiza</th>\n",
       "      <td>NaN</td>\n",
       "      <td>0.783349</td>\n",
       "      <td>0.000000</td>\n",
       "      <td>0.5</td>\n",
       "      <td>NaN</td>\n",
       "      <td>NaN</td>\n",
       "    </tr>\n",
       "    <tr>\n",
       "      <th>Joy</th>\n",
       "      <td>NaN</td>\n",
       "      <td>0.783349</td>\n",
       "      <td>0.000000</td>\n",
       "      <td>0.5</td>\n",
       "      <td>NaN</td>\n",
       "      <td>NaN</td>\n",
       "    </tr>\n",
       "    <tr>\n",
       "      <th>Doreen</th>\n",
       "      <td>NaN</td>\n",
       "      <td>-0.261116</td>\n",
       "      <td>-1.414214</td>\n",
       "      <td>0.5</td>\n",
       "      <td>NaN</td>\n",
       "      <td>NaN</td>\n",
       "    </tr>\n",
       "    <tr>\n",
       "      <th>Elijah</th>\n",
       "      <td>NaN</td>\n",
       "      <td>-1.305582</td>\n",
       "      <td>1.414214</td>\n",
       "      <td>-1.5</td>\n",
       "      <td>NaN</td>\n",
       "      <td>NaN</td>\n",
       "    </tr>\n",
       "    <tr>\n",
       "      <th>Lucas</th>\n",
       "      <td>NaN</td>\n",
       "      <td>NaN</td>\n",
       "      <td>0.000000</td>\n",
       "      <td>NaN</td>\n",
       "      <td>NaN</td>\n",
       "      <td>NaN</td>\n",
       "    </tr>\n",
       "  </tbody>\n",
       "</table>\n",
       "</div>"
      ],
      "text/plain": [
       "        Black_Panther  Wonder_Woman     Logan  Beauty_and_the_Beast  Coco  \\\n",
       "User                                                                        \n",
       "Laiza             NaN      0.783349  0.000000                   0.5   NaN   \n",
       "Joy               NaN      0.783349  0.000000                   0.5   NaN   \n",
       "Doreen            NaN     -0.261116 -1.414214                   0.5   NaN   \n",
       "Elijah            NaN     -1.305582  1.414214                  -1.5   NaN   \n",
       "Lucas             NaN           NaN  0.000000                   NaN   NaN   \n",
       "\n",
       "        The_Shape_of_Water  \n",
       "User                        \n",
       "Laiza                  NaN  \n",
       "Joy                    NaN  \n",
       "Doreen                 NaN  \n",
       "Elijah                 NaN  \n",
       "Lucas                  NaN  "
      ]
     },
     "execution_count": 62,
     "metadata": {},
     "output_type": "execute_result"
    }
   ],
   "source": [
    "standardized_ratings = (ratings_copy - ratings_copy.mean()) / ratings_copy.std()\n",
    "standardized_ratings"
   ]
  },
  {
   "cell_type": "markdown",
   "metadata": {},
   "source": [
    "### Average of standardized ratings for each movie"
   ]
  },
  {
   "cell_type": "code",
   "execution_count": 63,
   "metadata": {},
   "outputs": [
    {
     "data": {
      "text/plain": [
       "Black_Panther                    NaN\n",
       "Wonder_Woman            5.551115e-17\n",
       "Logan                   0.000000e+00\n",
       "Beauty_and_the_Beast    0.000000e+00\n",
       "Coco                             NaN\n",
       "The_Shape_of_Water               NaN\n",
       "dtype: float64"
      ]
     },
     "execution_count": 63,
     "metadata": {},
     "output_type": "execute_result"
    }
   ],
   "source": [
    "standardized_ratings.mean()"
   ]
  },
  {
   "cell_type": "markdown",
   "metadata": {},
   "source": [
    "### Average of standardized ratings by user"
   ]
  },
  {
   "cell_type": "code",
   "execution_count": 64,
   "metadata": {},
   "outputs": [
    {
     "data": {
      "text/plain": [
       "User\n",
       "Laiza     0.427783\n",
       "Joy       0.427783\n",
       "Doreen   -0.391777\n",
       "Elijah   -0.463790\n",
       "Lucas     0.000000\n",
       "dtype: float64"
      ]
     },
     "execution_count": 64,
     "metadata": {},
     "output_type": "execute_result"
    }
   ],
   "source": [
    "standardized_ratings.mean(axis=1)"
   ]
  }
 ],
 "metadata": {
  "kernelspec": {
   "display_name": "Python 3",
   "language": "python",
   "name": "python3"
  },
  "language_info": {
   "codemirror_mode": {
    "name": "ipython",
    "version": 3
   },
   "file_extension": ".py",
   "mimetype": "text/x-python",
   "name": "python",
   "nbconvert_exporter": "python",
   "pygments_lexer": "ipython3",
   "version": "3.6.3"
  }
 },
 "nbformat": 4,
 "nbformat_minor": 2
}
